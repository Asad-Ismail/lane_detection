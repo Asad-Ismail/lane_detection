{
 "cells": [
  {
   "cell_type": "code",
   "execution_count": 1,
   "id": "minor-aviation",
   "metadata": {},
   "outputs": [],
   "source": [
    "import tempfile\n",
    "import os\n",
    "import tensorflow as tf\n",
    "import numpy as np\n",
    "from tensorflow import keras\n",
    "import tensorflow_model_optimization as tfmot\n",
    "from tensorflow.keras.layers import *\n",
    "from tensorflow.keras.callbacks import EarlyStopping, ModelCheckpoint,TensorBoard\n",
    "from tensorflow.keras.optimizers import Adam\n",
    "import  argparse\n",
    "from utils import dataset\n",
    "from utils import display_sample,show_predictions,create_mask\n",
    "from Models import unetModel\n",
    "import os\n",
    "import datetime\n",
    "import numpy as np\n",
    "from losses import custom_sparse_weighted_crossentropy"
   ]
  },
  {
   "cell_type": "code",
   "execution_count": null,
   "id": "capital-insertion",
   "metadata": {},
   "outputs": [],
   "source": [
    "striped_loaded_model=tf.keras.models.load_model(\"pruned.h5\")"
   ]
  },
  {
   "cell_type": "code",
   "execution_count": null,
   "id": "arranged-coast",
   "metadata": {},
   "outputs": [],
   "source": []
  }
 ],
 "metadata": {
  "kernelspec": {
   "display_name": "Python 3",
   "language": "python",
   "name": "python3"
  },
  "language_info": {
   "codemirror_mode": {
    "name": "ipython",
    "version": 3
   },
   "file_extension": ".py",
   "mimetype": "text/x-python",
   "name": "python",
   "nbconvert_exporter": "python",
   "pygments_lexer": "ipython3",
   "version": "3.6.12"
  }
 },
 "nbformat": 4,
 "nbformat_minor": 5
}
